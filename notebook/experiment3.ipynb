{
 "cells": [
  {
   "cell_type": "code",
   "execution_count": 317,
   "metadata": {},
   "outputs": [],
   "source": [
    "import pandas as pd\n",
    "from sklearn.model_selection import train_test_split\n",
    "from sklearn.compose import ColumnTransformer\n",
    "from sklearn.impute import SimpleImputer\n",
    "from sklearn.pipeline import Pipeline\n",
    "from sklearn.preprocessing import OneHotEncoder,StandardScaler\n",
    "import numpy as np\n",
    "import pickle"
   ]
  },
  {
   "cell_type": "code",
   "execution_count": 318,
   "metadata": {},
   "outputs": [],
   "source": [
    "df = pd.read_csv(\"newdata.csv\")"
   ]
  },
  {
   "cell_type": "code",
   "execution_count": 319,
   "metadata": {},
   "outputs": [
    {
     "name": "stdout",
     "output_type": "stream",
     "text": [
      "<class 'pandas.core.frame.DataFrame'>\n",
      "RangeIndex: 7738 entries, 0 to 7737\n",
      "Data columns (total 13 columns):\n",
      " #   Column            Non-Null Count  Dtype  \n",
      "---  ------            --------------  -----  \n",
      " 0   price             7738 non-null   int64  \n",
      " 1   area              7738 non-null   int64  \n",
      " 2   bedrooms          7738 non-null   int64  \n",
      " 3   bathrooms         7738 non-null   int64  \n",
      " 4   balcony           5166 non-null   float64\n",
      " 5   status            7164 non-null   object \n",
      " 6   neworold          7738 non-null   object \n",
      " 7   parking           2612 non-null   float64\n",
      " 8   furnished_status  4124 non-null   object \n",
      " 9   lift              1733 non-null   float64\n",
      " 10  type_of_building  7738 non-null   object \n",
      " 11  price_sqft        7738 non-null   float64\n",
      " 12  city              7738 non-null   object \n",
      "dtypes: float64(4), int64(4), object(5)\n",
      "memory usage: 786.0+ KB\n"
     ]
    }
   ],
   "source": [
    "df.info(0)"
   ]
  },
  {
   "cell_type": "code",
   "execution_count": 320,
   "metadata": {},
   "outputs": [],
   "source": [
    "train_set,test_set = train_test_split(df,test_size=0.2,random_state=42)"
   ]
  },
  {
   "cell_type": "code",
   "execution_count": 321,
   "metadata": {},
   "outputs": [
    {
     "name": "stdout",
     "output_type": "stream",
     "text": [
      "tarin dateset size =  80470\n",
      "test dateset size =  20124\n",
      "whole dateset size =  100594\n"
     ]
    }
   ],
   "source": [
    "print(\"tarin dateset size = \",train_set.size)\n",
    "print(\"test dateset size = \",test_set.size)\n",
    "print(\"whole dateset size = \",df.size)"
   ]
  },
  {
   "cell_type": "code",
   "execution_count": 322,
   "metadata": {},
   "outputs": [
    {
     "data": {
      "text/plain": [
       "Index(['price', 'area', 'bedrooms', 'bathrooms', 'balcony', 'status',\n",
       "       'neworold', 'parking', 'furnished_status', 'lift', 'type_of_building',\n",
       "       'price_sqft', 'city'],\n",
       "      dtype='object')"
      ]
     },
     "execution_count": 322,
     "metadata": {},
     "output_type": "execute_result"
    }
   ],
   "source": [
    "train_set.columns"
   ]
  },
  {
   "cell_type": "code",
   "execution_count": 323,
   "metadata": {},
   "outputs": [],
   "source": [
    "def data_transformer(train_set,test_set):\n",
    "    train_features = train_set.drop(columns=[\"price\"])\n",
    "    train_target = train_set[\"price\"]\n",
    "    test_features = test_set.drop(columns=[\"price\"])\n",
    "    test_target = test_set[\"price\"]\n",
    "\n",
    "    num_cols = ['area','bedrooms','bathrooms','balcony','parking','lift','price_sqft']\n",
    "    cat_cols = ['status','neworold','furnished_status','type_of_building','city']\n",
    "\n",
    "    num_pipeline = Pipeline([(\"imputer\",SimpleImputer(strategy=\"median\")),(\"scaler\",StandardScaler())])#here it take list of tuples\n",
    "    cat_pipeline = Pipeline([(\"imputer\",SimpleImputer(strategy=\"most_frequent\")),(\"ohe\",OneHotEncoder()),(\"scaler\",StandardScaler(with_mean=False))])\n",
    "    \n",
    "    preprocessor = ColumnTransformer([(\"num_pipeline\",num_pipeline,num_cols),(\"cat_pipeline\",cat_pipeline,cat_cols)])\n",
    "\n",
    "    transformed_train_feature = preprocessor.fit_transform(train_features)\n",
    "\n",
    "    transformed_test_feature = preprocessor.transform(test_features)\n",
    "\n",
    "    with open(\"transformer.pkl\",\"wb\") as f:\n",
    "        pickle.dump(preprocessor,f)\n",
    "\n",
    "    return transformed_train_feature,np.array(train_target),transformed_test_feature,np.array(test_target)\n"
   ]
  },
  {
   "cell_type": "code",
   "execution_count": 324,
   "metadata": {},
   "outputs": [],
   "source": [
    "x_train,y_train,x_test,y_test = data_transformer(train_set,test_set)"
   ]
  },
  {
   "cell_type": "code",
   "execution_count": 325,
   "metadata": {},
   "outputs": [],
   "source": [
    "from sklearn.ensemble import AdaBoostRegressor, GradientBoostingRegressor, RandomForestRegressor\n",
    "from sklearn.linear_model import LinearRegression\n",
    "from sklearn.tree import DecisionTreeRegressor\n",
    "from xgboost import XGBRegressor\n",
    "from sklearn.metrics import r2_score\n",
    "\n",
    "def model_trainer(x_train,y_train,x_test,y_test):\n",
    "    report = {}\n",
    "    models = {\"Linear Regression\":LinearRegression(),\n",
    "          \"Decision Tree\":DecisionTreeRegressor(),\n",
    "          \"XG boost\":XGBRegressor(),\n",
    "          \"Ada boost\":AdaBoostRegressor(),\n",
    "          \"Gradient boost\":GradientBoostingRegressor(),\n",
    "          \"Random Forest\":RandomForestRegressor()\n",
    "          }\n",
    "    for i in range(len(list(models))):\n",
    "        model = list(models.values())[i]\n",
    "        model_name = list(models.keys())[i]\n",
    "        model.fit(x_train,y_train)\n",
    "        y_pred = model.predict(x_test)\n",
    "        r2 = r2_score(y_test,y_pred)\n",
    "        report[model_name]=r2\n",
    "        print(\"r2 scor for \",model_name,\"=\",r2)\n",
    "    #print(max(report.values()))\n",
    "    key = None\n",
    "    for i in report:\n",
    "        if report[i]==max(report.values()):\n",
    "            key=i\n",
    "            break\n",
    "    print(report[key])\n",
    "    best_model = models[key]\n",
    "    best_model.fit(x_train,y_train)\n",
    "    with open(\"best_model.pkl\",\"wb\") as f:\n",
    "        pickle.dump(best_model,f)"
   ]
  },
  {
   "cell_type": "code",
   "execution_count": 326,
   "metadata": {},
   "outputs": [
    {
     "name": "stdout",
     "output_type": "stream",
     "text": [
      "r2 scor for  Linear Regression = 0.9168428547413072\n",
      "r2 scor for  Decision Tree = 0.9911541876320484\n",
      "r2 scor for  XG boost = 0.9898467659950256\n",
      "r2 scor for  Ada boost = 0.8641949861362633\n",
      "r2 scor for  Gradient boost = 0.9940988423305781\n",
      "r2 scor for  Random Forest = 0.9956833462227336\n",
      "0.9956833462227336\n"
     ]
    }
   ],
   "source": [
    "model_trainer(x_train,y_train,x_test,y_test)"
   ]
  },
  {
   "cell_type": "code",
   "execution_count": null,
   "metadata": {},
   "outputs": [],
   "source": []
  },
  {
   "cell_type": "code",
   "execution_count": 327,
   "metadata": {},
   "outputs": [
    {
     "data": {
      "text/plain": [
       "'def model(x_train,y_train):\\n    lr = LinearRegression()\\n    lr.fit(x_train,y_train)\\n    return lr'"
      ]
     },
     "execution_count": 327,
     "metadata": {},
     "output_type": "execute_result"
    }
   ],
   "source": [
    "\"\"\"def model(x_train,y_train):\n",
    "    lr = LinearRegression()\n",
    "    lr.fit(x_train,y_train)\n",
    "    return lr\"\"\""
   ]
  },
  {
   "cell_type": "code",
   "execution_count": 328,
   "metadata": {},
   "outputs": [
    {
     "data": {
      "text/plain": [
       "'lr = model(x_train,y_train)\\ny_pred = lr.predict(x_test)'"
      ]
     },
     "execution_count": 328,
     "metadata": {},
     "output_type": "execute_result"
    }
   ],
   "source": [
    "\"\"\"lr = model(x_train,y_train)\n",
    "y_pred = lr.predict(x_test)\"\"\""
   ]
  },
  {
   "cell_type": "code",
   "execution_count": 329,
   "metadata": {},
   "outputs": [
    {
     "data": {
      "text/plain": [
       "'from sklearn.metrics import r2_score\\n\\n\\nprint(\"r2score  = \",r2_score(y_test,y_pred))\\n\\nwith open(\"linear_regression.pkl\",\"wb\") as f:\\n    pickle.dump(lr,f)'"
      ]
     },
     "execution_count": 329,
     "metadata": {},
     "output_type": "execute_result"
    }
   ],
   "source": [
    "\"\"\"from sklearn.metrics import r2_score\n",
    "\n",
    "\n",
    "print(\"r2score  = \",r2_score(y_test,y_pred))\n",
    "\n",
    "with open(\"linear_regression.pkl\",\"wb\") as f:\n",
    "    pickle.dump(lr,f)\"\"\"\n"
   ]
  },
  {
   "cell_type": "code",
   "execution_count": 330,
   "metadata": {},
   "outputs": [
    {
     "data": {
      "text/html": [
       "<div>\n",
       "<style scoped>\n",
       "    .dataframe tbody tr th:only-of-type {\n",
       "        vertical-align: middle;\n",
       "    }\n",
       "\n",
       "    .dataframe tbody tr th {\n",
       "        vertical-align: top;\n",
       "    }\n",
       "\n",
       "    .dataframe thead th {\n",
       "        text-align: right;\n",
       "    }\n",
       "</style>\n",
       "<table border=\"1\" class=\"dataframe\">\n",
       "  <thead>\n",
       "    <tr style=\"text-align: right;\">\n",
       "      <th></th>\n",
       "      <th>price</th>\n",
       "      <th>area</th>\n",
       "      <th>bedrooms</th>\n",
       "      <th>bathrooms</th>\n",
       "      <th>balcony</th>\n",
       "      <th>status</th>\n",
       "      <th>neworold</th>\n",
       "      <th>parking</th>\n",
       "      <th>furnished_status</th>\n",
       "      <th>lift</th>\n",
       "      <th>type_of_building</th>\n",
       "      <th>price_sqft</th>\n",
       "      <th>city</th>\n",
       "    </tr>\n",
       "  </thead>\n",
       "  <tbody>\n",
       "    <tr>\n",
       "      <th>0</th>\n",
       "      <td>5600000</td>\n",
       "      <td>1350</td>\n",
       "      <td>3</td>\n",
       "      <td>3</td>\n",
       "      <td>NaN</td>\n",
       "      <td>Under Construction</td>\n",
       "      <td>New Property</td>\n",
       "      <td>NaN</td>\n",
       "      <td>NaN</td>\n",
       "      <td>2.0</td>\n",
       "      <td>Flat</td>\n",
       "      <td>4148.148148</td>\n",
       "      <td>Noida</td>\n",
       "    </tr>\n",
       "    <tr>\n",
       "      <th>1</th>\n",
       "      <td>8800000</td>\n",
       "      <td>1490</td>\n",
       "      <td>3</td>\n",
       "      <td>3</td>\n",
       "      <td>NaN</td>\n",
       "      <td>Ready to Move</td>\n",
       "      <td>New Property</td>\n",
       "      <td>NaN</td>\n",
       "      <td>Semi-Furnished</td>\n",
       "      <td>2.0</td>\n",
       "      <td>Flat</td>\n",
       "      <td>5906.040268</td>\n",
       "      <td>Gurgaon</td>\n",
       "    </tr>\n",
       "    <tr>\n",
       "      <th>2</th>\n",
       "      <td>16500000</td>\n",
       "      <td>2385</td>\n",
       "      <td>4</td>\n",
       "      <td>5</td>\n",
       "      <td>NaN</td>\n",
       "      <td>Ready to Move</td>\n",
       "      <td>New Property</td>\n",
       "      <td>1.0</td>\n",
       "      <td>Unfurnished</td>\n",
       "      <td>NaN</td>\n",
       "      <td>Flat</td>\n",
       "      <td>6918.238994</td>\n",
       "      <td>Ghaziabad</td>\n",
       "    </tr>\n",
       "    <tr>\n",
       "      <th>3</th>\n",
       "      <td>3810000</td>\n",
       "      <td>1050</td>\n",
       "      <td>2</td>\n",
       "      <td>2</td>\n",
       "      <td>3.0</td>\n",
       "      <td>NaN</td>\n",
       "      <td>New Property</td>\n",
       "      <td>1.0</td>\n",
       "      <td>Unfurnished</td>\n",
       "      <td>2.0</td>\n",
       "      <td>Flat</td>\n",
       "      <td>3628.571429</td>\n",
       "      <td>Greater Noida</td>\n",
       "    </tr>\n",
       "    <tr>\n",
       "      <th>4</th>\n",
       "      <td>6200000</td>\n",
       "      <td>1350</td>\n",
       "      <td>2</td>\n",
       "      <td>2</td>\n",
       "      <td>3.0</td>\n",
       "      <td>Ready to Move</td>\n",
       "      <td>Resale</td>\n",
       "      <td>1.0</td>\n",
       "      <td>NaN</td>\n",
       "      <td>3.0</td>\n",
       "      <td>Flat</td>\n",
       "      <td>4592.592593</td>\n",
       "      <td>Noida</td>\n",
       "    </tr>\n",
       "  </tbody>\n",
       "</table>\n",
       "</div>"
      ],
      "text/plain": [
       "      price  area  bedrooms  bathrooms  balcony              status  \\\n",
       "0   5600000  1350         3          3      NaN  Under Construction   \n",
       "1   8800000  1490         3          3      NaN       Ready to Move   \n",
       "2  16500000  2385         4          5      NaN       Ready to Move   \n",
       "3   3810000  1050         2          2      3.0                 NaN   \n",
       "4   6200000  1350         2          2      3.0       Ready to Move   \n",
       "\n",
       "       neworold  parking furnished_status  lift type_of_building   price_sqft  \\\n",
       "0  New Property      NaN              NaN   2.0             Flat  4148.148148   \n",
       "1  New Property      NaN   Semi-Furnished   2.0             Flat  5906.040268   \n",
       "2  New Property      1.0      Unfurnished   NaN             Flat  6918.238994   \n",
       "3  New Property      1.0      Unfurnished   2.0             Flat  3628.571429   \n",
       "4        Resale      1.0              NaN   3.0             Flat  4592.592593   \n",
       "\n",
       "            city  \n",
       "0          Noida  \n",
       "1        Gurgaon  \n",
       "2      Ghaziabad  \n",
       "3  Greater Noida  \n",
       "4          Noida  "
      ]
     },
     "execution_count": 330,
     "metadata": {},
     "output_type": "execute_result"
    }
   ],
   "source": [
    "df.head(5)"
   ]
  },
  {
   "cell_type": "code",
   "execution_count": 331,
   "metadata": {},
   "outputs": [],
   "source": [
    "\n",
    "#col = [\"area\",\"bedrooms\",\"bathrooms\",\"balcony\",\"status\",\"neworold\",\"parking\",\"furnished_status\",\"lift\",\"type_of_building\",\"price_sqft\",\"city\"]\n",
    "\n",
    "#new_data = pd.DataFrame([[1200,4,2,2,\"Ready to Move\",\"New Property\",1,\"Furnished\",1,\"Flat\",3800,\"New Delhi\"]],columns=col)\n",
    "\n",
    "\n",
    "new_data = {\n",
    "    \"area\":1500,\n",
    "    \"bedrooms\":4,\n",
    "    \"bathrooms\":3,\n",
    "    \"balcony\":2,\n",
    "    \"status\":\"Ready to Move\",\n",
    "    \"neworold\":\"New Property\",\n",
    "    \"parking\":2,\n",
    "    \"furnished_status\":\"Furnished\",\n",
    "    \"lift\":2,\n",
    "    \"type_of_building\":\"Flat\",\n",
    "    \"price_sqft\":4500,\n",
    "    \"city\":\"New Delhi\",\n",
    "}\n",
    "new_data_df = pd.DataFrame([new_data])"
   ]
  },
  {
   "cell_type": "code",
   "execution_count": 332,
   "metadata": {},
   "outputs": [
    {
     "data": {
      "text/plain": [
       "'with open(\"transformer.pkl\",\"rb\") as f:\\n    trans = pickle.load(f)\\n\\n    \\nwith open(\"best_model.pkl\",\"rb\") as f:\\n    loaded_model = pickle.load(f)'"
      ]
     },
     "execution_count": 332,
     "metadata": {},
     "output_type": "execute_result"
    }
   ],
   "source": [
    "\"\"\"with open(\"transformer.pkl\",\"rb\") as f:\n",
    "    trans = pickle.load(f)\n",
    "\n",
    "    \n",
    "with open(\"best_model.pkl\",\"rb\") as f:\n",
    "    loaded_model = pickle.load(f)\"\"\""
   ]
  },
  {
   "cell_type": "code",
   "execution_count": 333,
   "metadata": {},
   "outputs": [],
   "source": [
    "def predicted_data(dict):\n",
    "    with open(\"transformer.pkl\",\"rb\") as f:\n",
    "        trans = pickle.load(f)\n",
    "    \n",
    "    with open(\"best_model.pkl\",\"rb\") as f:\n",
    "        loaded_model = pickle.load(f)\n",
    "\n",
    "    scaled_data = trans.transform(dict)\n",
    "    y_pred = loaded_model.predict(scaled_data)\n",
    "    return y_pred\n"
   ]
  },
  {
   "cell_type": "code",
   "execution_count": 334,
   "metadata": {},
   "outputs": [
    {
     "data": {
      "text/plain": [
       "array([6799000.])"
      ]
     },
     "execution_count": 334,
     "metadata": {},
     "output_type": "execute_result"
    }
   ],
   "source": [
    "predicted_data(new_data_df)"
   ]
  },
  {
   "cell_type": "code",
   "execution_count": 337,
   "metadata": {},
   "outputs": [
    {
     "name": "stdout",
     "output_type": "stream",
     "text": [
      "<class 'pandas.core.frame.DataFrame'>\n",
      "RangeIndex: 7738 entries, 0 to 7737\n",
      "Data columns (total 13 columns):\n",
      " #   Column            Non-Null Count  Dtype  \n",
      "---  ------            --------------  -----  \n",
      " 0   price             7738 non-null   int64  \n",
      " 1   area              7738 non-null   int64  \n",
      " 2   bedrooms          7738 non-null   int64  \n",
      " 3   bathrooms         7738 non-null   int64  \n",
      " 4   balcony           5166 non-null   float64\n",
      " 5   status            7164 non-null   object \n",
      " 6   neworold          7738 non-null   object \n",
      " 7   parking           2612 non-null   float64\n",
      " 8   furnished_status  4124 non-null   object \n",
      " 9   lift              1733 non-null   float64\n",
      " 10  type_of_building  7738 non-null   object \n",
      " 11  price_sqft        7738 non-null   float64\n",
      " 12  city              7738 non-null   object \n",
      "dtypes: float64(4), int64(4), object(5)\n",
      "memory usage: 786.0+ KB\n"
     ]
    }
   ],
   "source": [
    "df.info()"
   ]
  },
  {
   "cell_type": "code",
   "execution_count": 346,
   "metadata": {},
   "outputs": [
    {
     "data": {
      "text/plain": [
       "furnished_status\n",
       "Semi-Furnished    2199\n",
       "Unfurnished       1230\n",
       "Furnished          695\n",
       "Name: count, dtype: int64"
      ]
     },
     "execution_count": 346,
     "metadata": {},
     "output_type": "execute_result"
    }
   ],
   "source": [
    "df[\"furnished_status\"].value_counts()"
   ]
  },
  {
   "cell_type": "code",
   "execution_count": null,
   "metadata": {},
   "outputs": [],
   "source": []
  }
 ],
 "metadata": {
  "kernelspec": {
   "display_name": "Python 3",
   "language": "python",
   "name": "python3"
  },
  "language_info": {
   "codemirror_mode": {
    "name": "ipython",
    "version": 3
   },
   "file_extension": ".py",
   "mimetype": "text/x-python",
   "name": "python",
   "nbconvert_exporter": "python",
   "pygments_lexer": "ipython3",
   "version": "3.12.0"
  }
 },
 "nbformat": 4,
 "nbformat_minor": 2
}
